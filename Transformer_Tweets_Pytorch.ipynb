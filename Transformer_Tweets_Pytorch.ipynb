{
 "cells": [
  {
   "cell_type": "markdown",
   "id": "ba3ab72c",
   "metadata": {},
   "source": [
    "## 1. Load data from csv file"
   ]
  },
  {
   "cell_type": "code",
   "execution_count": 1,
   "id": "28eeeb18",
   "metadata": {},
   "outputs": [
    {
     "name": "stdout",
     "output_type": "stream",
     "text": [
      "   id keyword location                                               text  \\\n",
      "0   1     NaN      NaN  Our Deeds are the Reason of this #earthquake M...   \n",
      "1   4     NaN      NaN             Forest fire near La Ronge Sask. Canada   \n",
      "2   5     NaN      NaN  All residents asked to 'shelter in place' are ...   \n",
      "3   6     NaN      NaN  13,000 people receive #wildfires evacuation or...   \n",
      "4   7     NaN      NaN  Just got sent this photo from Ruby #Alaska as ...   \n",
      "\n",
      "   target  \n",
      "0       1  \n",
      "1       1  \n",
      "2       1  \n",
      "3       1  \n",
      "4       1  \n"
     ]
    }
   ],
   "source": [
    "import pandas as pd\n",
    "import numpy as np\n",
    "\n",
    "df = pd.read_csv(\n",
    "    \"https://www.dropbox.com/s/20yp4jzq7de0wzf/train.csv?dl=1\"\n",
    ")\n",
    "print(df.head())"
   ]
  },
  {
   "cell_type": "code",
   "execution_count": 2,
   "id": "d4146b7b",
   "metadata": {},
   "outputs": [
    {
     "name": "stdout",
     "output_type": "stream",
     "text": [
      "                                                text  target\n",
      "0  So you have a new weapon that can cause un-ima...       1\n",
      "1  The f$&amp;@ing things I do for #GISHWHES Just...       0\n",
      "2  DT @georgegalloway: RT @Galloway4Mayor: ÛÏThe...       1\n",
      "3  Aftershock back to school kick off was great. ...       0\n",
      "4  in response to trauma Children of Addicts deve...       0\n"
     ]
    }
   ],
   "source": [
    "# Shuffling and dropping unnecessary columns\n",
    "df_shuffled = df.sample(frac=1, random_state=42)\n",
    "\n",
    "# Dropping id, keyword and location columns as these columns consists of mostly nan values\n",
    "# we will be using only text and target columns\n",
    "df_shuffled.drop([\"id\", \"keyword\", \"location\"], axis=1, inplace=True)\n",
    "df_shuffled.reset_index(inplace=True, drop=True)\n",
    "print(df_shuffled.head())"
   ]
  },
  {
   "cell_type": "code",
   "execution_count": 3,
   "id": "a5f4e483",
   "metadata": {},
   "outputs": [
    {
     "name": "stdout",
     "output_type": "stream",
     "text": [
      "Using 6852 samples for training and 761 for validation\n"
     ]
    }
   ],
   "source": [
    "test_df = df_shuffled.sample(frac=0.1, random_state=42)\n",
    "train_df = df_shuffled.drop(test_df.index)\n",
    "print(f\"Using {len(train_df)} samples for training and {len(test_df)} for validation\")"
   ]
  },
  {
   "cell_type": "code",
   "execution_count": 4,
   "id": "f9e7dcfa",
   "metadata": {},
   "outputs": [],
   "source": [
    "train_df = train_df.to_numpy()\n",
    "test_df  = test_df.to_numpy()"
   ]
  },
  {
   "cell_type": "code",
   "execution_count": null,
   "id": "cf8d931c-ff04-417f-b597-7ad62f8469a5",
   "metadata": {},
   "outputs": [],
   "source": []
  },
  {
   "cell_type": "markdown",
   "id": "96289551",
   "metadata": {},
   "source": [
    "## 2. Process data"
   ]
  },
  {
   "cell_type": "markdown",
   "id": "96f13eb4",
   "metadata": {},
   "source": [
    "### 2.1 Build vocab"
   ]
  },
  {
   "cell_type": "code",
   "execution_count": 5,
   "id": "d44d389b",
   "metadata": {},
   "outputs": [],
   "source": [
    "# %pip install torchtext==0.12.0\n",
    "from torchtext.data.utils import get_tokenizer\n",
    "from torchtext.vocab import build_vocab_from_iterator\n",
    "\n",
    "\n",
    "english_tokenizer = get_tokenizer(\"basic_english\")\n",
    "vocab_size = 20000\n",
    "\n",
    "def yield_tokens(data_iter):\n",
    "    for data in data_iter:\n",
    "        yield english_tokenizer(data[0])\n",
    "\n",
    "vocab = build_vocab_from_iterator(yield_tokens(train_df),\n",
    "                                  min_freq = 3,\n",
    "                                  max_tokens=vocab_size,\n",
    "                                  specials=[\"<pad>\", \"<s>\", \"</s>\", \"<unk>\"])\n",
    "vocab.set_default_index(vocab[\"<unk>\"])"
   ]
  },
  {
   "cell_type": "code",
   "execution_count": null,
   "id": "96720912-4884-4864-adfe-5e02ae5322d7",
   "metadata": {},
   "outputs": [],
   "source": []
  },
  {
   "cell_type": "markdown",
   "id": "f8f78b5b",
   "metadata": {},
   "source": [
    "### 2.2 Buid dataset"
   ]
  },
  {
   "cell_type": "code",
   "execution_count": 6,
   "id": "d9e78308",
   "metadata": {},
   "outputs": [],
   "source": [
    "import torch\n",
    "from torch.utils.data import Dataset\n",
    "\n",
    "class Tweets_Dataset(Dataset):\n",
    "    def __init__(self, data, max_len, vocab, tokenizer):\n",
    "        super().__init__()\n",
    "        self.data = data\n",
    "        self.max_len = max_len\n",
    "        self.vocab = vocab\n",
    "        self.tokenizer = tokenizer\n",
    "\n",
    "    def __len__(self):\n",
    "        return self.data.shape[0]\n",
    "    \n",
    "    def __getitem__(self, idx):\n",
    "        text = self.data[idx][0]\n",
    "        label = self.data[idx][1]\n",
    "\n",
    "        text_processed = self.vocab(self.tokenizer(text))\n",
    "        text_processed = text_processed[:self.max_len-2]\n",
    "        text_processed = [vocab[\"<s>\"]] + text_processed +  [vocab[\"</s>\"]]\n",
    "\n",
    "        if len(text_processed) < self.max_len:\n",
    "            pad_size = self.max_len - len(text_processed)\n",
    "            text_processed += [vocab[\"<pad>\"]] * pad_size\n",
    "\n",
    "        text_processed = torch.tensor(text_processed)\n",
    "        label = torch.tensor(label)\n",
    "        return {\n",
    "            \"input_ids\": text_processed,\n",
    "            \"labels\": label\n",
    "        }"
   ]
  },
  {
   "cell_type": "code",
   "execution_count": 7,
   "id": "0aa14931",
   "metadata": {},
   "outputs": [],
   "source": [
    "max_length = 200\n",
    "train_data = Tweets_Dataset(train_df, max_length, vocab, english_tokenizer)\n",
    "test_data = Tweets_Dataset(test_df, max_length, vocab, english_tokenizer)"
   ]
  },
  {
   "cell_type": "code",
   "execution_count": null,
   "id": "b98690a2-f76b-47ba-8702-870106c59703",
   "metadata": {},
   "outputs": [],
   "source": []
  },
  {
   "cell_type": "markdown",
   "id": "b7fc860d",
   "metadata": {},
   "source": [
    "### 2.3 Buid data loader"
   ]
  },
  {
   "cell_type": "code",
   "execution_count": 8,
   "id": "eb7d8042",
   "metadata": {},
   "outputs": [],
   "source": [
    "from torch.utils.data import DataLoader\n",
    "\n",
    "\n",
    "batch_size = 32\n",
    "train_loader = DataLoader(train_data, batch_size=batch_size, shuffle=True)\n",
    "test_loader = DataLoader(test_data, batch_size=batch_size, shuffle=False)"
   ]
  },
  {
   "cell_type": "code",
   "execution_count": null,
   "id": "583c0ccb-2877-493a-8556-42886769b026",
   "metadata": {},
   "outputs": [],
   "source": []
  },
  {
   "cell_type": "markdown",
   "id": "0c834317",
   "metadata": {},
   "source": [
    "## 3. Model"
   ]
  },
  {
   "cell_type": "code",
   "execution_count": 9,
   "id": "f0e40114",
   "metadata": {},
   "outputs": [],
   "source": [
    "import torch.nn as nn\n",
    "\n",
    "class TransformerBlock(nn.Module):\n",
    "    def __init__(self, embed_dim, num_heads, ff_dim, dropout):\n",
    "        super().__init__()\n",
    "        self.attn = nn.MultiheadAttention(embed_dim=embed_dim, num_heads=num_heads, dropout=0.0, bias=True)\n",
    "        self.ffn = nn.Sequential(\n",
    "            nn.Linear(in_features=embed_dim, out_features=ff_dim, bias=True),\n",
    "            nn.ReLU(),\n",
    "            nn.Linear(in_features=ff_dim, out_features=embed_dim, bias=True)\n",
    "        )\n",
    "        self.layernorm_1 = nn.LayerNorm(normalized_shape=embed_dim, eps=1e-6)\n",
    "        self.layernorm_2 = nn.LayerNorm(normalized_shape=embed_dim, eps=1e-6)\n",
    "        self.dropout_1 = nn.Dropout(p=dropout)\n",
    "        self.dropout_2 = nn.Dropout(p=dropout)\n",
    "\n",
    "    def forward(self, query, key, value):\n",
    "        attn_output, _ = self.attn(query, key, value)\n",
    "        attn_output = self.dropout_1(attn_output)\n",
    "        out_1 = self.layernorm_1(query + attn_output)\n",
    "        ffn_output = self.ffn(out_1)\n",
    "        ffn_output = self.dropout_2(ffn_output)\n",
    "        out_2 = self.layernorm_2(out_1 + ffn_output)\n",
    "        return out_2\n",
    "\n",
    "\n",
    "class TokenAndPositionEmbedding(nn.Module):\n",
    "    def __init__(self, vocab_size, embed_dim, max_length, device):\n",
    "        super().__init__()\n",
    "        self.device = device\n",
    "        self.word_emb = nn.Embedding(num_embeddings=vocab_size, embedding_dim=embed_dim)\n",
    "        self.pos_emb = nn.Embedding(num_embeddings=max_length, embedding_dim=embed_dim)\n",
    "\n",
    "    def forward(self, x):\n",
    "        N, seq_len = x.size()\n",
    "        positions = torch.arange(0, seq_len).expand(N, seq_len).to(self.device)\n",
    "        output1 = self.word_emb(x) \n",
    "        output2 = self.pos_emb(positions)\n",
    "        output = output1 + output2\n",
    "        return output\n",
    "\n",
    "\n",
    "class TransformerTextCls(nn.Module):\n",
    "    def __init__(self, vocab_size, max_length, embed_dim, num_heads, ff_dim, dropout, device):\n",
    "        super().__init__()\n",
    "        self.embd_layer = TokenAndPositionEmbedding(vocab_size, embed_dim, max_length, device)\n",
    "        self.transformer_layer = TransformerBlock(embed_dim, num_heads, ff_dim, dropout)\n",
    "        self.pooling = nn.AvgPool1d(kernel_size=max_length)\n",
    "        self.fc1 = nn.Linear(in_features=embed_dim, out_features=20)\n",
    "        self.fc2 = nn.Linear(in_features=20, out_features=2)\n",
    "        self.dropout = nn.Dropout(p=dropout)\n",
    "        self.relu = nn.ReLU()\n",
    "    def forward(self, x):\n",
    "        output = self.embd_layer(x)\n",
    "        output = self.transformer_layer(output, output, output)\n",
    "        output = self.pooling(output.permute(0,2,1)).squeeze()\n",
    "        output = self.dropout(output)\n",
    "        output = self.fc1(output)\n",
    "        output = self.dropout(output)\n",
    "        output = self.fc2(output)\n",
    "        return output\n"
   ]
  },
  {
   "cell_type": "code",
   "execution_count": 10,
   "id": "1d195bf6",
   "metadata": {},
   "outputs": [],
   "source": [
    "embed_dim = 32\n",
    "num_heads = 2\n",
    "ff_dim = 32\n",
    "dropout = 0.1\n",
    "device = 'cuda' if torch.cuda.is_available() else 'cpu'\n",
    "model = TransformerTextCls(vocab_size, max_length, embed_dim, num_heads, ff_dim, dropout, device)"
   ]
  },
  {
   "cell_type": "code",
   "execution_count": null,
   "id": "7cac1677-3281-4d9e-8a52-cc44060c3ef5",
   "metadata": {},
   "outputs": [],
   "source": []
  },
  {
   "cell_type": "markdown",
   "id": "93cb6a9f",
   "metadata": {},
   "source": [
    "## 4. Training"
   ]
  },
  {
   "cell_type": "markdown",
   "id": "c994f2b8",
   "metadata": {},
   "source": [
    "### 4.1 Eval function"
   ]
  },
  {
   "cell_type": "code",
   "execution_count": 11,
   "id": "c1ac61cc",
   "metadata": {},
   "outputs": [],
   "source": [
    "def evaluate(model, test_loader, criterion, device):\n",
    "    model.eval()\n",
    "    test_loss = 0.0\n",
    "    correct = 0\n",
    "    total = 0\n",
    "    with torch.no_grad(): \n",
    "        for batch in test_loader:\n",
    "            inputs, labels = batch['input_ids'].to(device), batch['labels'].to(device)\n",
    "\n",
    "            outputs = model(inputs)\n",
    "            loss = criterion(outputs, labels)\n",
    "            _, predicted = torch.max(outputs, 1)\n",
    "\n",
    "            total += labels.size(0)\n",
    "            test_loss += loss.item()\n",
    "            correct +=(predicted == labels).sum().item()\n",
    "\n",
    "    test_loss = test_loss / len(test_loader)\n",
    "    accuracy = 100* correct / total\n",
    "\n",
    "    return test_loss, accuracy"
   ]
  },
  {
   "cell_type": "code",
   "execution_count": null,
   "id": "804d7d76-dc2f-438a-8a06-e09167983de4",
   "metadata": {},
   "outputs": [],
   "source": []
  },
  {
   "cell_type": "markdown",
   "id": "b919fffa",
   "metadata": {},
   "source": [
    "### 4.2 Train model"
   ]
  },
  {
   "cell_type": "code",
   "execution_count": 12,
   "id": "c0ae5715",
   "metadata": {},
   "outputs": [],
   "source": [
    "max_epoch = 40\n",
    "LR = 0.001\n",
    "criterion = nn.CrossEntropyLoss()\n",
    "optimizer = torch.optim.Adam(model.parameters(), lr=LR)"
   ]
  },
  {
   "cell_type": "code",
   "execution_count": 13,
   "id": "515990c2",
   "metadata": {},
   "outputs": [
    {
     "name": "stdout",
     "output_type": "stream",
     "text": [
      "Epoch [1/40], Loss: 0.6844, Accuracy: 56.61%, Test Loss: 0.6876, Test Accuracy: 54.27%\n",
      "Epoch [2/40], Loss: 0.6805, Accuracy: 57.66%, Test Loss: 0.6817, Test Accuracy: 54.27%\n",
      "Epoch [3/40], Loss: 0.6589, Accuracy: 60.96%, Test Loss: 0.6310, Test Accuracy: 64.65%\n",
      "Epoch [4/40], Loss: 0.6021, Accuracy: 68.10%, Test Loss: 0.5697, Test Accuracy: 71.75%\n",
      "Epoch [5/40], Loss: 0.5452, Accuracy: 73.56%, Test Loss: 0.5874, Test Accuracy: 72.01%\n",
      "Epoch [6/40], Loss: 0.5252, Accuracy: 74.23%, Test Loss: 0.5565, Test Accuracy: 73.06%\n",
      "Epoch [7/40], Loss: 0.5107, Accuracy: 76.09%, Test Loss: 0.5697, Test Accuracy: 72.54%\n",
      "Epoch [8/40], Loss: 0.4938, Accuracy: 77.16%, Test Loss: 0.5450, Test Accuracy: 73.98%\n",
      "Epoch [9/40], Loss: 0.4857, Accuracy: 77.76%, Test Loss: 0.5370, Test Accuracy: 74.24%\n",
      "Epoch [10/40], Loss: 0.4771, Accuracy: 77.99%, Test Loss: 0.5365, Test Accuracy: 74.38%\n",
      "Epoch [11/40], Loss: 0.4669, Accuracy: 78.74%, Test Loss: 0.5347, Test Accuracy: 74.77%\n",
      "Epoch [12/40], Loss: 0.4542, Accuracy: 79.66%, Test Loss: 0.5287, Test Accuracy: 75.16%\n",
      "Epoch [13/40], Loss: 0.4446, Accuracy: 79.83%, Test Loss: 0.5118, Test Accuracy: 76.87%\n",
      "Epoch [14/40], Loss: 0.4363, Accuracy: 80.41%, Test Loss: 0.5217, Test Accuracy: 76.48%\n",
      "Epoch [15/40], Loss: 0.4185, Accuracy: 81.52%, Test Loss: 0.5146, Test Accuracy: 76.61%\n",
      "Epoch [16/40], Loss: 0.4054, Accuracy: 82.44%, Test Loss: 0.5116, Test Accuracy: 76.61%\n",
      "Epoch [17/40], Loss: 0.3912, Accuracy: 82.95%, Test Loss: 0.5416, Test Accuracy: 75.82%\n",
      "Epoch [18/40], Loss: 0.3834, Accuracy: 83.58%, Test Loss: 0.5334, Test Accuracy: 76.48%\n",
      "Epoch [19/40], Loss: 0.3792, Accuracy: 84.17%, Test Loss: 0.6039, Test Accuracy: 76.22%\n",
      "Epoch [20/40], Loss: 0.3741, Accuracy: 83.70%, Test Loss: 0.5704, Test Accuracy: 77.14%\n",
      "Epoch [21/40], Loss: 0.3536, Accuracy: 84.60%, Test Loss: 0.5839, Test Accuracy: 76.08%\n",
      "Epoch [22/40], Loss: 0.3498, Accuracy: 85.22%, Test Loss: 0.5467, Test Accuracy: 76.48%\n",
      "Epoch [23/40], Loss: 0.3379, Accuracy: 85.79%, Test Loss: 0.5428, Test Accuracy: 77.14%\n",
      "Epoch [24/40], Loss: 0.3456, Accuracy: 84.98%, Test Loss: 0.5469, Test Accuracy: 77.00%\n",
      "Epoch [25/40], Loss: 0.3199, Accuracy: 86.50%, Test Loss: 0.5568, Test Accuracy: 76.35%\n",
      "Epoch [26/40], Loss: 0.3102, Accuracy: 87.24%, Test Loss: 0.5695, Test Accuracy: 78.19%\n",
      "Epoch [27/40], Loss: 0.3061, Accuracy: 87.43%, Test Loss: 0.5651, Test Accuracy: 76.22%\n",
      "Epoch [28/40], Loss: 0.2985, Accuracy: 87.55%, Test Loss: 0.6122, Test Accuracy: 73.19%\n",
      "Epoch [29/40], Loss: 0.2861, Accuracy: 88.27%, Test Loss: 0.5807, Test Accuracy: 77.66%\n",
      "Epoch [30/40], Loss: 0.2853, Accuracy: 88.24%, Test Loss: 0.5889, Test Accuracy: 77.00%\n",
      "Epoch [31/40], Loss: 0.2792, Accuracy: 88.46%, Test Loss: 0.5909, Test Accuracy: 75.69%\n",
      "Epoch [32/40], Loss: 0.2683, Accuracy: 88.94%, Test Loss: 0.6172, Test Accuracy: 73.85%\n",
      "Epoch [33/40], Loss: 0.2622, Accuracy: 89.24%, Test Loss: 0.6164, Test Accuracy: 78.19%\n",
      "Epoch [34/40], Loss: 0.2501, Accuracy: 90.40%, Test Loss: 0.6521, Test Accuracy: 77.79%\n",
      "Epoch [35/40], Loss: 0.2449, Accuracy: 90.11%, Test Loss: 0.6574, Test Accuracy: 77.79%\n",
      "Epoch [36/40], Loss: 0.2405, Accuracy: 90.31%, Test Loss: 0.7133, Test Accuracy: 77.14%\n",
      "Epoch [37/40], Loss: 0.2327, Accuracy: 90.81%, Test Loss: 0.7858, Test Accuracy: 76.87%\n",
      "Epoch [38/40], Loss: 0.2364, Accuracy: 90.59%, Test Loss: 0.6843, Test Accuracy: 78.19%\n",
      "Epoch [39/40], Loss: 0.2234, Accuracy: 90.72%, Test Loss: 0.6714, Test Accuracy: 77.66%\n",
      "Epoch [40/40], Loss: 0.2142, Accuracy: 91.29%, Test Loss: 0.6745, Test Accuracy: 77.92%\n"
     ]
    }
   ],
   "source": [
    "train_losses = []\n",
    "train_accuracies = []\n",
    "test_losses = []\n",
    "test_accuracies = []\n",
    "\n",
    "model.to(device)\n",
    "for epoch in range(max_epoch):\n",
    "    model.train()\n",
    "    running_loss = 0.0\n",
    "    running_correct = 0\n",
    "    total = 0\n",
    "    for batch in train_loader:\n",
    "        inputs, labels = batch['input_ids'].to(device), batch['labels'].to(device)\n",
    "\n",
    "        optimizer.zero_grad()\n",
    "        outputs = model(inputs)\n",
    "        loss = criterion(outputs, labels)\n",
    "        running_loss += loss.item()\n",
    "\n",
    "        _, predicted = torch.max(outputs, 1)\n",
    "        total += labels.size(0)\n",
    "        running_correct += (predicted == labels).sum().item()\n",
    "\n",
    "        loss.backward()\n",
    "        optimizer.step()\n",
    "\n",
    "    epoch_loss =  running_loss / len(train_loader)\n",
    "    epoch_accuracy = 100* running_correct / total\n",
    "    test_loss, test_accuracy = evaluate(model, test_loader, criterion, device)\n",
    "\n",
    "    print(f\"Epoch [{epoch + 1}/{max_epoch}], Loss: {epoch_loss:.4f}, Accuracy: {epoch_accuracy:.2f}%, Test Loss: {test_loss:.4f}, Test Accuracy: {test_accuracy:.2f}%\")\n",
    "\n",
    "    train_losses.append(epoch_loss)\n",
    "    train_accuracies.append(epoch_accuracy)\n",
    "    test_losses.append(test_loss)\n",
    "    test_accuracies.append(test_accuracy)"
   ]
  },
  {
   "cell_type": "code",
   "execution_count": null,
   "id": "6d379b98-9ec2-46d8-87e6-90962cbb30b4",
   "metadata": {},
   "outputs": [],
   "source": []
  },
  {
   "cell_type": "markdown",
   "id": "4d670c8b",
   "metadata": {},
   "source": [
    "### 4.3 Plot the result"
   ]
  },
  {
   "cell_type": "code",
   "execution_count": 14,
   "id": "65c281af",
   "metadata": {},
   "outputs": [
    {
     "data": {
      "image/png": "[encoded data removed]",
      "text/plain": [
       "<Figure size 800x800 with 2 Axes>"
      ]
     },
     "metadata": {},
     "output_type": "display_data"
    }
   ],
   "source": [
    "import matplotlib.pyplot as plt\n",
    "\n",
    "plt.figure(figsize=(8, 8))\n",
    "plt.subplot(2, 1, 1)\n",
    "plt.plot(train_accuracies, label='Training Accuracy')\n",
    "plt.plot(test_accuracies, label='Validation Accuracy')\n",
    "plt.legend(loc='lower right')\n",
    "plt.ylabel('Accuracy')\n",
    "plt.ylim([min(plt.ylim()),100])\n",
    "plt.title('Training and Validation Accuracy')\n",
    "\n",
    "plt.subplot(2, 1, 2)\n",
    "plt.plot(train_losses, label='Training Loss')\n",
    "plt.plot(test_losses, label='Validation Loss')\n",
    "plt.legend(loc='upper right')\n",
    "plt.ylabel('Binary Cross Entropy')\n",
    "plt.title('Training and Validation Loss')\n",
    "plt.xlabel('epoch')\n",
    "plt.show()"
   ]
  },
  {
   "cell_type": "code",
   "execution_count": null,
   "id": "679f16f6-d1c7-4268-a4e3-31ae422fe2be",
   "metadata": {},
   "outputs": [],
   "source": []
  }
 ],
 "metadata": {
  "kernelspec": {
   "display_name": "Python 3 (ipykernel)",
   "language": "python",
   "name": "python3"
  },
  "language_info": {
   "codemirror_mode": {
    "name": "ipython",
    "version": 3
   },
   "file_extension": ".py",
   "mimetype": "text/x-python",
   "name": "python",
   "nbconvert_exporter": "python",
   "pygments_lexer": "ipython3",
   "version": "3.11.5"
  }
 },
 "nbformat": 4,
 "nbformat_minor": 5
}
